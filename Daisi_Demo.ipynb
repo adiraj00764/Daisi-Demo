{
  "nbformat": 4,
  "nbformat_minor": 0,
  "metadata": {
    "colab": {
      "name": "Daisi Demo",
      "provenance": []
    },
    "kernelspec": {
      "name": "python3",
      "display_name": "Python 3"
    },
    "language_info": {
      "name": "python"
    }
  },
  "cells": [
    {
      "cell_type": "code",
      "execution_count": 1,
      "metadata": {
        "id": "OpEL9VBm4hwh"
      },
      "outputs": [],
      "source": [
        "   def hello(name = \"World\"):\n",
        "\n",
        "    return \"Hello \" + str(name)"
      ]
    }
  ]
}